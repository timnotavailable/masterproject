{
 "cells": [
  {
   "cell_type": "markdown",
   "id": "ea9a3b56",
   "metadata": {},
   "source": [
    "## check the image size (the most abnormal patient) "
   ]
  },
  {
   "cell_type": "code",
   "execution_count": 11,
   "id": "691bbe67",
   "metadata": {},
   "outputs": [
    {
     "name": "stdout",
     "output_type": "stream",
     "text": [
      "torch.Size([3, 15, 36])\n",
      "1.0\n"
     ]
    }
   ],
   "source": [
    "print(torch.from_numpy(torch.load(r\"processed data/stress/stressN183411831.pt\")[\"image\"]).shape)\n",
    "print(torch.load(r\"processed data/stress/stressN183411831.pt\")[\"image\"].max())"
   ]
  },
  {
   "cell_type": "markdown",
   "id": "f9abe5a2",
   "metadata": {},
   "source": [
    "## test data"
   ]
  },
  {
   "cell_type": "code",
   "execution_count": 1,
   "id": "6c8e602a",
   "metadata": {},
   "outputs": [
    {
     "name": "stdout",
     "output_type": "stream",
     "text": [
      "{'checkpoint_dir': 'checkpoints/checkpoints_stress_Res18', 'checkpoint_name': 'model.ckpt-1340.pt', 'dataset_dir': '../../../metadata/stress', 'type': 'Res18'}\n",
      "..\\..\\..\\metadata\\stress\\test_set.csv\n"
     ]
    },
    {
     "name": "stderr",
     "output_type": "stream",
     "text": [
      "100%|████████████████████████████████████████████████████████████████████████████████████| 2/2 [00:01<00:00,  1.23it/s]"
     ]
    },
    {
     "name": "stdout",
     "output_type": "stream",
     "text": [
      "MPI test:\n",
      "{'average_acc': 0.8717948717948718, 'average_precision': 0.42399267399267393, 'recall': 0.42857142857142855, 'auc': 0.6986607142857143, 'confusion_matrix': array([[31,  1],\n",
      "       [ 4,  3]], dtype=int64)}\n",
      "              precision    recall  f1-score   support\n",
      "\n",
      "           0       0.89      0.97      0.93        32\n",
      "           1       0.75      0.43      0.55         7\n",
      "\n",
      "    accuracy                           0.87        39\n",
      "   macro avg       0.82      0.70      0.74        39\n",
      "weighted avg       0.86      0.87      0.86        39\n",
      "\n"
     ]
    },
    {
     "name": "stderr",
     "output_type": "stream",
     "text": [
      "\n"
     ]
    },
    {
     "data": {
      "image/png": "[encoded data removed]",
      "text/plain": [
       "<Figure size 640x480 with 2 Axes>"
      ]
     },
     "metadata": {},
     "output_type": "display_data"
    }
   ],
   "source": [
    "##stress\n",
    "%run test_single.py"
   ]
  },
  {
   "cell_type": "code",
   "execution_count": 2,
   "id": "abb07afe",
   "metadata": {},
   "outputs": [
    {
     "name": "stdout",
     "output_type": "stream",
     "text": [
      "{'checkpoint_dir': 'checkpoints/checkpoints_rest_Res18', 'checkpoint_name': 'model.ckpt-3552.pt', 'dataset_dir': '../../../metadata/rest', 'type': 'Res18'}\n",
      "..\\..\\..\\metadata\\rest\\test_set.csv\n"
     ]
    },
    {
     "name": "stderr",
     "output_type": "stream",
     "text": [
      "100%|████████████████████████████████████████████████████████████████████████████████████| 2/2 [00:00<00:00,  9.87it/s]"
     ]
    },
    {
     "name": "stdout",
     "output_type": "stream",
     "text": [
      "MPI test:\n",
      "{'average_acc': 0.9230769230769231, 'average_precision': 0.47692307692307695, 'recall': 0.4, 'auc': 0.7, 'confusion_matrix': array([[34,  0],\n",
      "       [ 3,  2]], dtype=int64)}\n",
      "              precision    recall  f1-score   support\n",
      "\n",
      "           0       0.92      1.00      0.96        34\n",
      "           1       1.00      0.40      0.57         5\n",
      "\n",
      "    accuracy                           0.92        39\n",
      "   macro avg       0.96      0.70      0.76        39\n",
      "weighted avg       0.93      0.92      0.91        39\n",
      "\n"
     ]
    },
    {
     "name": "stderr",
     "output_type": "stream",
     "text": [
      "\n"
     ]
    },
    {
     "data": {
      "image/png": "[encoded data removed]",
      "text/plain": [
       "<Figure size 640x480 with 2 Axes>"
      ]
     },
     "metadata": {},
     "output_type": "display_data"
    }
   ],
   "source": [
    "## rest\n",
    "%run test_single.py"
   ]
  },
  {
   "cell_type": "markdown",
   "id": "84a55612",
   "metadata": {},
   "source": [
    "## Stress Classifier Localization"
   ]
  },
  {
   "cell_type": "code",
   "execution_count": null,
   "id": "95f91639",
   "metadata": {},
   "outputs": [],
   "source": [
    "from pytorch_grad_cam import GradCAM, HiResCAM, ScoreCAM, GradCAMPlusPlus, AblationCAM, XGradCAM, EigenCAM, FullGrad\n",
    "from pytorch_grad_cam.utils.model_targets import BinaryClassifierOutputTarget\n",
    "from pytorch_grad_cam.utils.image import show_cam_on_image\n",
    "\n",
    "\n",
    "from pathlib import Path\n",
    "import torch\n",
    "import torch.nn as nn\n",
    "import torch.optim as optim\n",
    "from torch.utils.data import DataLoader\n",
    "from utils import MPIDataset,save_checkpoint, load_checkpoint,Evaluator\n",
    "from models.Classifiers import *\n",
    "import numpy as np\n",
    "import pandas as pd\n",
    "import matplotlib.pyplot as plt\n",
    "import cv2"
   ]
  },
  {
   "cell_type": "code",
   "execution_count": null,
   "id": "0d6f97a5",
   "metadata": {},
   "outputs": [],
   "source": [
    "model_stress = Res18()\n",
    "device = torch.device(\"cuda\" if torch.cuda.is_available() else \"cpu\")\n",
    "\n",
    "checkpoint_dir=Path(r\"checkpoints/checkpoints_stress_Res18\")/\"model.ckpt-1340.pt\"\n",
    "checkpoint=torch.load(checkpoint_dir)\n",
    "model_stress.load_state_dict(checkpoint[\"model\"])  \n",
    "model_stress.to(device)\n",
    "model_stress.eval()\n",
    "\n",
    "## select out some abnormal sample and put it into tensor\n",
    "input_tensor=torch.from_numpy(torch.load(r\"processed data/stress/stressN183411831.pt\")[\"image\"]).unsqueeze(0)\n",
    "\n",
    "target_layers = [model_stress.model.layer4[-1]]\n",
    "# input_tensor = data['image'][23].unsqueeze(0).to(device)\n",
    "\n",
    "cam = GradCAM(model=model_stress, target_layers=target_layers, use_cuda=True)\n",
    "\n",
    "# You can also use it within a with statement, to make sure it is freed,\n",
    "# In case you need to re-create it inside an outer loop:\n",
    "# with GradCAM(model=model, target_layers=target_layers, use_cuda=args.use_cuda) as cam:\n",
    "#   ...\n",
    "\n",
    "# We have to specify the target we want to generate\n",
    "# the Class Activation Maps for.\n",
    "# If targets is None, the highest scoring category\n",
    "# will be used for every image in the batch.\n",
    "# Here we use ClassifierOutputTarget, but you can define your own custom targets\n",
    "# That are, for example, combinations of categories, or specific outputs in a non standard model.\n",
    "\n",
    "targets=[BinaryClassifierOutputTarget(category=1)]\n",
    "\n",
    "# You can also pass aug_smooth=True and eigen_smooth=True, to apply smoothing.\n",
    "grayscale_cam = cam(input_tensor=input_tensor, targets=targets)\n"
   ]
  },
  {
   "cell_type": "code",
   "execution_count": null,
   "id": "055687ff",
   "metadata": {
    "scrolled": true
   },
   "outputs": [],
   "source": [
    "grayscale_cam = grayscale_cam[0, :]\n",
    "print(grayscale_cam.shape)\n",
    "print(grayscale_cam)\n",
    "cam_image = show_cam_on_image(input_tensor, grayscale_cam, use_rgb=False)\n"
   ]
  },
  {
   "cell_type": "markdown",
   "id": "0bd158aa",
   "metadata": {},
   "source": [
    "## Rest Classifier Localization"
   ]
  },
  {
   "cell_type": "code",
   "execution_count": null,
   "id": "00b8ee65",
   "metadata": {},
   "outputs": [],
   "source": [
    "model_rest = Res18()\n",
    "device = torch.device(\"cuda\" if torch.cuda.is_available() else \"cpu\")\n",
    "\n",
    "checkpoint_dir=Path(r\"checkpoints/checkpoints_rest_Res18\")/\"model.ckpt-3552.pt\"\n",
    "checkpoint=torch.load(checkpoint_dir)\n",
    "model_rest.load_state_dict(checkpoint[\"model\"])  \n",
    "model_rest.to(device)\n",
    "model_rest.eval()\n",
    "\n",
    "## select out some abnormal sample and put it into tensor\n",
    "input_tensor=torch.from_numpy(torch.load(r\"processed data/stress/stressN183411831.pt\")[\"image\"]).unsqueeze(0)\n",
    "\n",
    "target_layers = [model_rest.model.layer4]\n",
    "# input_tensor = data['image'][23].unsqueeze(0).to(device)\n",
    "\n",
    "cam = GradCAM(model=model_rest, target_layers=target_layers, use_cuda=True)\n",
    "\n",
    "# You can also use it within a with statement, to make sure it is freed,\n",
    "# In case you need to re-create it inside an outer loop:\n",
    "# with GradCAM(model=model, target_layers=target_layers, use_cuda=args.use_cuda) as cam:\n",
    "#   ...\n",
    "\n",
    "# We have to specify the target we want to generate\n",
    "# the Class Activation Maps for.\n",
    "# If targets is None, the highest scoring category\n",
    "# will be used for every image in the batch.\n",
    "# Here we use ClassifierOutputTarget, but you can define your own custom targets\n",
    "# That are, for example, combinations of categories, or specific outputs in a non standard model.\n",
    "\n",
    "targets=[BinaryClassifierOutputTarget(1)]\n",
    "\n",
    "# You can also pass aug_smooth=True and eigen_smooth=True, to apply smoothing.\n",
    "grayscale_cam = cam(input_tensor=input_tensor, targets=targets)\n"
   ]
  },
  {
   "cell_type": "code",
   "execution_count": null,
   "id": "2fa8cf90",
   "metadata": {},
   "outputs": [],
   "source": [
    "%matplotlib notebook"
   ]
  },
  {
   "cell_type": "code",
   "execution_count": null,
   "id": "c291afc9",
   "metadata": {},
   "outputs": [],
   "source": [
    "plt.imshow(input_tensor.squeeze(0)[0],cmap='gray')\n",
    "plt.colorbar()"
   ]
  },
  {
   "cell_type": "code",
   "execution_count": null,
   "id": "a7c378d0",
   "metadata": {
    "scrolled": false
   },
   "outputs": [],
   "source": [
    "grayscale_cam = grayscale_cam[0, :]\n",
    "print(grayscale_cam.shape)\n",
    "print(grayscale_cam)\n",
    "\n",
    "plt.imshow(grayscale_cam,cmap='Reds')\n",
    "plt.colorbar()"
   ]
  },
  {
   "cell_type": "code",
   "execution_count": null,
   "id": "dab4c622",
   "metadata": {},
   "outputs": [],
   "source": []
  }
 ],
 "metadata": {
  "kernelspec": {
   "display_name": "Python 3 (ipykernel)",
   "language": "python",
   "name": "python3"
  },
  "language_info": {
   "codemirror_mode": {
    "name": "ipython",
    "version": 3
   },
   "file_extension": ".py",
   "mimetype": "text/x-python",
   "name": "python",
   "nbconvert_exporter": "python",
   "pygments_lexer": "ipython3",
   "version": "3.10.10"
  }
 },
 "nbformat": 4,
 "nbformat_minor": 5
}
